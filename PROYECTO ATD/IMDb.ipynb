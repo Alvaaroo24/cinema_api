{
 "cells": [
  {
   "cell_type": "code",
   "execution_count": 1,
   "id": "e95be0c3",
   "metadata": {},
   "outputs": [],
   "source": [
    "from bs4 import BeautifulSoup\n",
    "import requests\n",
    "import time\n",
    "import datetime\n",
    "import re            #Hay que decidir que parámetros de entrada tendrán las funciones: sopas, urls, etc."
   ]
  },
  {
   "cell_type": "code",
   "execution_count": 23,
   "id": "e153a481",
   "metadata": {},
   "outputs": [],
   "source": [
    "imdb='https://www.imdb.com'\n",
    "url='https://www.imdb.com/title/tt0098904/'"
   ]
  },
  {
   "cell_type": "code",
   "execution_count": 24,
   "id": "c7bb711b",
   "metadata": {},
   "outputs": [],
   "source": [
    "headers={\n",
    "    'User-Agent': 'Mozilla/5.0 (Windows NT 10.0; Win64; x64; rv:100.0) Gecko/20100101 Firefox/100.0',\n",
    "    'Accept': 'text/html,application/xhtml+xml,application/xml;q=0.9,image/webp,*/*;q=0.8',\n",
    "    'Accept-Language': 'en-US,en;q=0.5',\n",
    "    'Accept-Encoding': 'gzip, deflate, br',\n",
    "    'Connection': 'keep-alive'\n",
    "}\n",
    "\n",
    "a=requests.get(url, headers=headers)\n",
    "soup=BeautifulSoup(a.content, 'html.parser')"
   ]
  },
  {
   "cell_type": "code",
   "execution_count": 25,
   "id": "a7ad4657",
   "metadata": {},
   "outputs": [],
   "source": [
    "titulo=soup.find('span', class_='hero__primary-text')"
   ]
  },
  {
   "cell_type": "code",
   "execution_count": 26,
   "id": "ad91c275",
   "metadata": {},
   "outputs": [],
   "source": [
    "def coger_nota(sopa):  #coge la nota de una pelicula, previamente ha sido seleccionada la url de la pelicula\n",
    "    nota=sopa.find('span', {'class': 'sc-bde20123-1 cMEQkK'})\n",
    "    return float(nota.text)"
   ]
  },
  {
   "cell_type": "code",
   "execution_count": 27,
   "id": "d60d9cac",
   "metadata": {},
   "outputs": [
    {
     "name": "stdout",
     "output_type": "stream",
     "text": [
      "Seinfeld\n",
      "8.9\n"
     ]
    }
   ],
   "source": [
    "print(titulo.text)\n",
    "print(coger_nota(soup))"
   ]
  },
  {
   "cell_type": "code",
   "execution_count": 28,
   "id": "a469b8d7",
   "metadata": {},
   "outputs": [],
   "source": [
    "reviews_url=url+'reviews'\n",
    "c=requests.get(reviews_url, headers=headers)\n",
    "sopa_critica=BeautifulSoup(c.content, 'html.parser')"
   ]
  },
  {
   "cell_type": "code",
   "execution_count": 29,
   "id": "f47b7836",
   "metadata": {},
   "outputs": [],
   "source": [
    "def conseguir_critica(sopa):  #En ocasiones las críticas no tienen nota, hay que solucionar eso\n",
    "    padre=sopa.find('span', class_='rating-other-user-rating')\n",
    "    if padre is not None:\n",
    "        nota=padre.find('span', class_=None)\n",
    "        calif=nota.text+'/10'\n",
    "    else:\n",
    "        calif='Unrated'\n",
    "    titulo_critica=sopa.find('a', class_='title')\n",
    "    critica=sopa.find('div', class_='text show-more__control')\n",
    "    return calif, titulo_critica.text, critica.text"
   ]
  },
  {
   "cell_type": "code",
   "execution_count": 30,
   "id": "18aaacfd",
   "metadata": {},
   "outputs": [
    {
     "name": "stdout",
     "output_type": "stream",
     "text": [
      "10/10\n",
      " Still just as funny today!\n",
      "\n",
      "Seinfeld is without a doubt one of the best comedies in the history of television. It's just as hilarious today as when it was on in the 90's. I don't know of any sitcom ever (outside of maybe Friends) where all the co-stars are all equally funny! Jerry Seinfeld (Jerry), Jason Alexander (George), Michael Richards (Kramer) and Julia Louis-Dreyfus's (Elaine) are all some of the best sitcoms in the history of television. I mean everyone has there favorites but bottom line is they're all great as is the show! If you read any \"best sitcom ever\" list ever written you will find Seinfeld as one of the Top 3 on every list for a reason...because it is!\n"
     ]
    }
   ],
   "source": [
    "a, b, c=conseguir_critica(sopa_critica)\n",
    "print(a)\n",
    "print(b)\n",
    "print(c)"
   ]
  },
  {
   "cell_type": "code",
   "execution_count": null,
   "id": "ce2c0cda",
   "metadata": {},
   "outputs": [],
   "source": [
    "def buscar(titulo):\n",
    "    tit_format=titulo.lower().replace(' ','%20')\n",
    "    urlb=imdb+f'find/?q={tit_format}'\n",
    "    b=requests.get(urlb, headers=headers)\n",
    "    sopa=BeautifulSoup(b.content, 'html.parser')\n",
    "    entradas=sopa.find_all('a', class_='ipc-metadata-list-summary-item__t')\n",
    "    for entrada in entradas:\n",
    "        if entrada is not None\n",
    "            if titulo.lower() in entrada.text.lower():\n",
    "                return entrada.get('href')\n",
    "    return None"
   ]
  },
  {
   "cell_type": "code",
   "execution_count": null,
   "id": "6484d809",
   "metadata": {},
   "outputs": [],
   "source": []
  }
 ],
 "metadata": {
  "kernelspec": {
   "display_name": "Python 3 (ipykernel)",
   "language": "python",
   "name": "python3"
  },
  "language_info": {
   "codemirror_mode": {
    "name": "ipython",
    "version": 3
   },
   "file_extension": ".py",
   "mimetype": "text/x-python",
   "name": "python",
   "nbconvert_exporter": "python",
   "pygments_lexer": "ipython3",
   "version": "3.9.13"
  }
 },
 "nbformat": 4,
 "nbformat_minor": 5
}
