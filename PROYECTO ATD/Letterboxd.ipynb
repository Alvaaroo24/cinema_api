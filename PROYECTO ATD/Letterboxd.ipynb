{
 "cells": [
  {
   "cell_type": "code",
   "execution_count": 1,
   "id": "ec4759a0",
   "metadata": {},
   "outputs": [],
   "source": [
    "from bs4 import BeautifulSoup\n",
    "import requests\n",
    "import time\n",
    "import datetime\n",
    "import re     "
   ]
  },
  {
   "cell_type": "code",
   "execution_count": 3,
   "id": "319dc8e4",
   "metadata": {},
   "outputs": [],
   "source": [
    "def pelicula():\n",
    "    nombre_peli=input('Nombre de la película:')\n",
    "    nombre_formateado=nombre_peli.lower().replace(' ','-')\n",
    "    url='https://letterboxd.com/film/'+nombre_formateado\n",
    "    return url\n",
    "\n",
    "def buscarPeli():\n",
    "\n",
    "    headers={\n",
    "        'User-Agent': 'Mozilla/5.0 (Windows NT 10.0; Win64; x64; rv:100.0) Gecko/20100101 Firefox/100.0',\n",
    "        'Accept': 'text/html,application/xhtml+xml,application/xml;q=0.9,image/webp,/;q=0.8',\n",
    "        'Accept-Language': 'en-US,en;q=0.5',\n",
    "        'Accept-Encoding': 'gzip, deflate, br',\n",
    "        'Connection': 'keep-alive',\n",
    "\n",
    "    }\n",
    "    url=pelicula()\n",
    "    a=requests.get(url, headers=headers)\n",
    "    soup=BeautifulSoup(a.content, 'html.parser')\n",
    "    # Extraer información de los metadatos\n",
    "    titulo = soup.find('meta', property='og:title')['content']\n",
    "    descripcion = soup.find('meta', property='og:description')['content']\n",
    "    promedio_puntuacion = soup.find('meta', {'name': 'twitter:data2'})['content']\n",
    "    print(f'Título: {titulo}')\n",
    "    print(f'Descripción: {descripcion}')\n",
    "    print(coger_nota(promedio_puntuacion))\n",
    "    print(coger_critica(soup))"
   ]
  },
  {
   "cell_type": "code",
   "execution_count": 4,
   "id": "2e9a676f",
   "metadata": {},
   "outputs": [],
   "source": [
    "def coger_nota(promedio_puntuacion):\n",
    "    try:\n",
    "        # Realizar split y convertir el primer elemento a float\n",
    "        nota = float(promedio_puntuacion.split()[0])\n",
    "        \n",
    "        # Multiplicar por 2\n",
    "        nota_multiplicada = nota * 2\n",
    "\n",
    "        return nota_multiplicada\n",
    "    except ValueError:\n",
    "        # Manejar posibles errores de conversión\n",
    "        print(\"Error al convertir la nota a número.\")\n",
    "        return None\n",
    "def coger_critica(soup):\n",
    "    # Supongamos que las críticas están dentro de un div con la clase \"criticas\"\n",
    "    criticas_section = soup.find('section', class_='film-recent-reviews')\n",
    "\n",
    "    if criticas_section:\n",
    "        # Extraer todas las críticas (puedes limitar la cantidad según tus necesidades)\n",
    "        criticas = criticas_section.find_all('p')\n",
    "\n",
    "        # Devolver la primera crítica (puedes ajustar esto según tus necesidades)\n",
    "        if criticas:\n",
    "            return [critica.text.strip() for critica in criticas]\n",
    "    return None"
   ]
  },
  {
   "cell_type": "code",
   "execution_count": null,
   "id": "63900734",
   "metadata": {},
   "outputs": [],
   "source": []
  }
 ],
 "metadata": {
  "kernelspec": {
   "display_name": "Python 3 (ipykernel)",
   "language": "python",
   "name": "python3"
  },
  "language_info": {
   "codemirror_mode": {
    "name": "ipython",
    "version": 3
   },
   "file_extension": ".py",
   "mimetype": "text/x-python",
   "name": "python",
   "nbconvert_exporter": "python",
   "pygments_lexer": "ipython3",
   "version": "3.9.13"
  }
 },
 "nbformat": 4,
 "nbformat_minor": 5
}
